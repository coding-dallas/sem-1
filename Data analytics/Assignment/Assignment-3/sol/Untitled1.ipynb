{
 "cells": [
  {
   "cell_type": "code",
   "execution_count": 2,
   "id": "c277be42-1682-4f0c-9c5d-71925d208145",
   "metadata": {},
   "outputs": [
    {
     "name": "stdout",
     "output_type": "stream",
     "text": [
      "['I1', 'I2', 'I3', 'I4', 'I5']\n"
     ]
    }
   ],
   "source": [
    "data = [\n",
    "        ['T100',['I1','I2','I5']],\n",
    "        ['T200',['I2','I4']],\n",
    "        ['T300',['I2','I3']],\n",
    "        ['T400',['I1','I2','I4']],\n",
    "        ['T500',['I1','I3']],\n",
    "        ['T600',['I2','I3']],\n",
    "        ['T700',['I1','I3']],\n",
    "        ['T800',['I1','I2','I3','I5']],\n",
    "        ['T900',['I1','I2','I3']]\n",
    "        ]\n",
    "init = []\n",
    "for i in data:\n",
    "    for q in i[1]:\n",
    "        if(q not in init):\n",
    "            init.append(q)\n",
    "init = sorted(init)\n",
    "print(init)"
   ]
  },
  {
   "cell_type": "code",
   "execution_count": 3,
   "id": "07119c16-d0ea-426f-ad3c-908a2e3a5043",
   "metadata": {},
   "outputs": [
    {
     "data": {
      "text/plain": [
       "2"
      ]
     },
     "execution_count": 3,
     "metadata": {},
     "output_type": "execute_result"
    }
   ],
   "source": [
    "sp = 0.4\n",
    "s = int(sp*len(init))\n",
    "s"
   ]
  },
  {
   "cell_type": "code",
   "execution_count": 4,
   "id": "01239d62-7c83-454f-b8af-826010f5ac1c",
   "metadata": {},
   "outputs": [
    {
     "name": "stdout",
     "output_type": "stream",
     "text": [
      "C1:\n",
      "Counter({'I2': 7, 'I1': 6, 'I3': 6, 'I4': 2, 'I5': 2})\n",
      "['I1']: 6\n",
      "['I2']: 7\n",
      "['I3']: 6\n",
      "['I4']: 2\n",
      "['I5']: 2\n",
      "\n"
     ]
    }
   ],
   "source": [
    "from collections import Counter\n",
    "c = Counter()\n",
    "for i in init:\n",
    "    for d in data:\n",
    "        if(i in d[1]):\n",
    "            c[i]+=1\n",
    "print(\"C1:\")\n",
    "print(c)\n",
    "for i in c:\n",
    "    print(str([i])+\": \"+str(c[i]))\n",
    "print()\n"
   ]
  },
  {
   "cell_type": "code",
   "execution_count": 5,
   "id": "b33dcede-252d-49a1-9e11-b2b1ac708174",
   "metadata": {},
   "outputs": [
    {
     "name": "stdout",
     "output_type": "stream",
     "text": [
      "L1:\n",
      "Counter({frozenset({'I2'}): 7, frozenset({'I1'}): 6, frozenset({'I3'}): 6, frozenset({'I4'}): 2, frozenset({'I5'}): 2})\n",
      "['I1']: 6\n",
      "['I2']: 7\n",
      "['I3']: 6\n",
      "['I4']: 2\n",
      "['I5']: 2\n",
      "\n"
     ]
    }
   ],
   "source": [
    "l = Counter()\n",
    "for i in c:\n",
    "    if(c[i] >= s):\n",
    "        l[frozenset([i])]+=c[i]\n",
    "print(\"L1:\")\n",
    "print(l)\n",
    "for i in l:\n",
    "    print(str(list(i))+\": \"+str(l[i]))\n",
    "print()"
   ]
  },
  {
   "cell_type": "code",
   "execution_count": 6,
   "id": "5f8bda6b-645a-4053-90fb-91efa00279b3",
   "metadata": {},
   "outputs": [
    {
     "name": "stdout",
     "output_type": "stream",
     "text": [
      "C1:\n",
      "['I1']: 6\n",
      "['I2']: 7\n",
      "['I3']: 6\n",
      "['I4']: 2\n",
      "['I5']: 2\n",
      "\n",
      "L1:\n",
      "['I1']: 6\n",
      "['I2']: 7\n",
      "['I3']: 6\n",
      "['I4']: 2\n",
      "['I5']: 2\n",
      "\n",
      "C2:\n",
      "['I4', 'I3']: 0\n",
      "['I1', 'I3']: 4\n",
      "['I2', 'I3']: 4\n",
      "['I5', 'I3']: 1\n",
      "['I1', 'I4']: 1\n",
      "['I4', 'I2']: 2\n",
      "['I1', 'I5']: 2\n",
      "['I1', 'I2']: 4\n",
      "['I5', 'I2']: 2\n",
      "['I4', 'I5']: 0\n",
      "\n",
      "L2:\n",
      "['I1', 'I3']: 4\n",
      "['I2', 'I3']: 4\n",
      "['I4', 'I2']: 2\n",
      "['I1', 'I5']: 2\n",
      "['I1', 'I2']: 4\n",
      "['I5', 'I2']: 2\n",
      "\n",
      "C3:\n",
      "['I4', 'I2', 'I5']: 0\n",
      "['I1', 'I5', 'I2']: 2\n",
      "['I1', 'I2', 'I3']: 2\n",
      "['I1', 'I5', 'I3']: 1\n",
      "['I5', 'I2', 'I3']: 1\n",
      "['I4', 'I2', 'I3']: 0\n",
      "['I1', 'I4', 'I2']: 1\n",
      "\n",
      "L3:\n",
      "['I1', 'I5', 'I2']: 2\n",
      "['I1', 'I2', 'I3']: 2\n",
      "\n",
      "C4:\n",
      "['I5', 'I2', 'I1', 'I3']: 1\n",
      "\n",
      "L4:\n",
      "\n",
      "Result: \n",
      "L3:\n",
      "['I1', 'I5', 'I2']: 2\n",
      "['I1', 'I2', 'I3']: 2\n",
      "\n"
     ]
    }
   ],
   "source": [
    "from collections import Counter\n",
    "c = Counter()\n",
    "for i in init:\n",
    "    for d in data:\n",
    "        if(i in d[1]):\n",
    "            c[i]+=1\n",
    "print(\"C1:\")\n",
    "for i in c:\n",
    "    print(str([i])+\": \"+str(c[i]))\n",
    "print()\n",
    "l = Counter()\n",
    "for i in c:\n",
    "    if(c[i] >= s):\n",
    "        l[frozenset([i])]+=c[i]\n",
    "print(\"L1:\")\n",
    "for i in l:\n",
    "    print(str(list(i))+\": \"+str(l[i]))\n",
    "print()\n",
    "pl = l\n",
    "pos = 1\n",
    "for count in range (2,1000):\n",
    "    nc = set()\n",
    "    temp = list(l)\n",
    "    for i in range(0,len(temp)):\n",
    "        for j in range(i+1,len(temp)):\n",
    "            t = temp[i].union(temp[j])\n",
    "            if(len(t) == count):\n",
    "                nc.add(temp[i].union(temp[j]))\n",
    "    nc = list(nc)\n",
    "    c = Counter()\n",
    "    for i in nc:\n",
    "        c[i] = 0\n",
    "        for q in data:\n",
    "            temp = set(q[1])\n",
    "            if(i.issubset(temp)):\n",
    "                c[i]+=1\n",
    "    print(\"C\"+str(count)+\":\")\n",
    "    for i in c:\n",
    "        print(str(list(i))+\": \"+str(c[i]))\n",
    "    print()\n",
    "    l = Counter()\n",
    "    for i in c:\n",
    "        if(c[i] >= s):\n",
    "            l[i]+=c[i]\n",
    "    print(\"L\"+str(count)+\":\")\n",
    "    for i in l:\n",
    "        print(str(list(i))+\": \"+str(l[i]))\n",
    "    print()\n",
    "    if(len(l) == 0):\n",
    "        break\n",
    "    pl = l\n",
    "    pos = count\n",
    "print(\"Result: \")\n",
    "print(\"L\"+str(pos)+\":\")\n",
    "for i in pl:\n",
    "    print(str(list(i))+\": \"+str(pl[i]))\n",
    "print()"
   ]
  },
  {
   "cell_type": "code",
   "execution_count": 17,
   "id": "7c195a5a-f390-43c8-aa4b-38b8b38f88bb",
   "metadata": {},
   "outputs": [
    {
     "name": "stdout",
     "output_type": "stream",
     "text": [
      "[frozenset({'I1', 'I5'}), frozenset({'I1', 'I2'}), frozenset({'I5', 'I2'})]\n",
      "[frozenset({'I1', 'I2'}), frozenset({'I1', 'I3'}), frozenset({'I2', 'I3'})]\n"
     ]
    }
   ],
   "source": [
    "from itertools import combinations\n",
    "for l in pl:\n",
    "    c = [frozenset(q) for q in combinations(l,len(l)-1)]\n",
    "    print(c)\n",
    "    mmax = 0\n",
    "    for a in c:\n",
    "        b = l-a\n",
    "        ab = l\n",
    "        sab = 0\n",
    "        sa = 0\n",
    "        sb = 0\n",
    "#         for q in data:\n",
    "#             temp = set(q[1])\n",
    "#             if(a.issubset(temp)):\n",
    "#                 sa+=1\n",
    "#             if(b.issubset(temp)):\n",
    "#                 sb+=1\n",
    "#             if(ab.issubset(temp)):\n",
    "#                 sab+=1\n",
    "#         temp = sab/sa*100\n",
    "    \n",
    "#         if(temp > mmax):\n",
    "#             mmax = temp\n",
    "#         temp = sab/sb*100\n",
    "#         if(temp > mmax):\n",
    "#             mmax = temp\n",
    "#         print(str(list(a))+\" -> \"+str(list(b))+\" = \"+str(sab/sa*100)+\"%\")\n",
    "#         print(str(list(b))+\" -> \"+str(list(a))+\" = \"+str(sab/sb*100)+\"%\")\n",
    "    # curr = 1\n",
    "    # print(\"choosing:\", end=' ')\n",
    "    # for a in c:\n",
    "    #     b = l-a\n",
    "    #     ab = l\n",
    "    #     sab = 0\n",
    "    #     sa = 0\n",
    "    #     sb = 0\n",
    "    #     for q in data:\n",
    "    #         temp = set(q[1])\n",
    "    #         if(a.issubset(temp)):\n",
    "    #             sa+=1\n",
    "    #         if(b.issubset(temp)):\n",
    "    #             sb+=1\n",
    "    #         if(ab.issubset(temp)):\n",
    "    #             sab+=1\n",
    "    #     temp = sab/sa*100\n",
    "    #     if(temp == mmax):\n",
    "    #         print(curr, end = ' ')\n",
    "    #     curr += 1\n",
    "    #     temp = sab/sb*100\n",
    "    #     if(temp == mmax):\n",
    "    #         print(curr, end = ' ')\n",
    "    #     curr += 1\n",
    "    # print()\n",
    "    # print()"
   ]
  },
  {
   "cell_type": "code",
   "execution_count": null,
   "id": "769c053d-2fcb-459b-98b8-91b787ef914d",
   "metadata": {},
   "outputs": [],
   "source": []
  },
  {
   "cell_type": "code",
   "execution_count": null,
   "id": "8efdc863-ea3f-4803-bbbb-63a9f83a40e9",
   "metadata": {},
   "outputs": [],
   "source": []
  }
 ],
 "metadata": {
  "kernelspec": {
   "display_name": "Python 3 (ipykernel)",
   "language": "python",
   "name": "python3"
  },
  "language_info": {
   "codemirror_mode": {
    "name": "ipython",
    "version": 3
   },
   "file_extension": ".py",
   "mimetype": "text/x-python",
   "name": "python",
   "nbconvert_exporter": "python",
   "pygments_lexer": "ipython3",
   "version": "3.10.5"
  }
 },
 "nbformat": 4,
 "nbformat_minor": 5
}
