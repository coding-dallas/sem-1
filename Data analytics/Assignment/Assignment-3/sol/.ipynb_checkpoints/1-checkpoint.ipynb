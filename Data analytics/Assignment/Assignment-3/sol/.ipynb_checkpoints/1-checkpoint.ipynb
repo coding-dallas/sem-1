{
 "cells": [
  {
   "cell_type": "code",
   "execution_count": 13,
   "id": "89b05e8c-9a0a-436c-b59d-b2f0e2c6f720",
   "metadata": {},
   "outputs": [],
   "source": [
    "import numpy as np\n",
    "from sklearn.model_selection import train_test_split\n",
    "import pandas as pd\n",
    "import warnings\n",
    "warnings.filterwarnings(\"ignore\")"
   ]
  },
  {
   "cell_type": "code",
   "execution_count": 59,
   "id": "db55da50-b128-444b-ba13-344da65179de",
   "metadata": {},
   "outputs": [],
   "source": [
    "#Data Preprocessing\n",
    "rating=pd.read_csv('ratings.csv')\n",
    "movie=pd.read_csv('movies.csv')\n",
    "\n",
    "#merging two csv file for creating transaction data\n",
    "data=pd.merge(rating,movie,on='movieId')\n",
    "data=data.sort_values('userId')\n",
    "\n",
    "#movies rated above 2\n",
    "data=data[data['rating']>2]\n",
    "\n",
    "# Creating dictionary for transactional data set\n",
    "data_dict = {}\n",
    "for i, row in data.iterrows():\n",
    "    if row['userId'] not in data_dict:\n",
    "        data_dict[row['userId']] = []\n",
    "    data_dict[row['userId']].append(row['title'])  \n",
    "\n",
    "#Users who have rated more than 10 movies\n",
    "user_list = list(data_dict.keys())\n",
    "for user in user_list:\n",
    "    if len(data_dict[user]) <= 10:\n",
    "        del(data_dict[user])  \n",
    "\n",
    "#Creatin train and test dataset\n",
    "trainset={}\n",
    "testset={}\n",
    "for i, val in data_dict.items():\n",
    "    if i not in trainset:\n",
    "        trainset[i] = []\n",
    "    if i not in testset:\n",
    "        testset[i] = []\n",
    "    for j, mov in enumerate(val):\n",
    "        if j < int(0.8 * len(val)):\n",
    "            trainset[i].append(mov)\n",
    "        else:\n",
    "            testset[i].append(mov)"
   ]
  },
  {
   "cell_type": "code",
   "execution_count": 60,
   "id": "781b6c05-56a0-4bc2-a53c-9808a29564b8",
   "metadata": {},
   "outputs": [
    {
     "name": "stdout",
     "output_type": "stream",
     "text": [
      "8201\n"
     ]
    }
   ],
   "source": [
    "#Forming Association rules\n",
    "#Creating the individual movie items list from train set\n",
    "movieList=[]\n",
    "for i, val in trainset.items():\n",
    "    for q in val:\n",
    "        if (q not in movieList):\n",
    "            movieList.append(q)\n",
    "print(len(movieList))"
   ]
  },
  {
   "cell_type": "code",
   "execution_count": 16,
   "id": "67ec980f-3fb1-47d1-93ae-fcceb375c5c0",
   "metadata": {},
   "outputs": [],
   "source": [
    "\n"
   ]
  },
  {
   "cell_type": "code",
   "execution_count": 17,
   "id": "76a655fc-fe39-4c3f-b5f5-a3620b71b72f",
   "metadata": {},
   "outputs": [],
   "source": []
  },
  {
   "cell_type": "code",
   "execution_count": 58,
   "id": "8ce1245a-7f50-4788-99ad-70bf1c5e7716",
   "metadata": {},
   "outputs": [
    {
     "name": "stdout",
     "output_type": "stream",
     "text": [
      "8201\n"
     ]
    }
   ],
   "source": [
    "\n"
   ]
  },
  {
   "cell_type": "code",
   "execution_count": null,
   "id": "3867f793-e07e-43fc-a942-c6d9bc83606f",
   "metadata": {},
   "outputs": [],
   "source": []
  },
  {
   "cell_type": "code",
   "execution_count": null,
   "id": "6b87aa18-3d78-40ac-b0b4-cc83c8b947ed",
   "metadata": {},
   "outputs": [],
   "source": []
  },
  {
   "cell_type": "code",
   "execution_count": null,
   "id": "135ce910-4805-456a-8949-c7016c1976fd",
   "metadata": {},
   "outputs": [],
   "source": []
  }
 ],
 "metadata": {
  "kernelspec": {
   "display_name": "Python 3 (ipykernel)",
   "language": "python",
   "name": "python3"
  },
  "language_info": {
   "codemirror_mode": {
    "name": "ipython",
    "version": 3
   },
   "file_extension": ".py",
   "mimetype": "text/x-python",
   "name": "python",
   "nbconvert_exporter": "python",
   "pygments_lexer": "ipython3",
   "version": "3.10.5"
  }
 },
 "nbformat": 4,
 "nbformat_minor": 5
}
