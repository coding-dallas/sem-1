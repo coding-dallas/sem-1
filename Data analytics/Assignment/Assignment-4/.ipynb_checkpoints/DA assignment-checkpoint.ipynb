{
 "cells": [
  {
   "cell_type": "code",
   "execution_count": 255,
   "id": "f93165ef-0f53-4fea-a5f8-99837bd542db",
   "metadata": {},
   "outputs": [],
   "source": [
    "import numpy as np\n",
    "import pandas as pd\n",
    "import statistics\n",
    "import csv\n",
    "import matplotlib.pyplot as plt\n",
    "from sklearn.model_selection import train_test_split\n",
    "from sklearn.svm import SVC\n",
    "from sklearn.linear_model import LogisticRegression\n",
    "from sklearn.neighbors import KNeighborsClassifier\n",
    "from sklearn.ensemble import RandomForestClassifier\n",
    "from sklearn import tree\n",
    "import warnings\n",
    "warnings.simplefilter(\"ignore\", UserWarning)"
   ]
  },
  {
   "cell_type": "code",
   "execution_count": 176,
   "id": "bf59c5b8-74ec-4473-be78-771a4d76fd0e",
   "metadata": {},
   "outputs": [],
   "source": [
    "#Load data\n",
    "data=pd.read_csv('penguins_train.csv')\n",
    "\n",
    "#dropping Nan values and Sex attribute \n",
    "# data = data.dropna()\n",
    "\n",
    "# print(data.isnull().sum())"
   ]
  },
  {
   "cell_type": "code",
   "execution_count": 177,
   "id": "9bc26eb7-fc39-47d9-9c17-8311e8492224",
   "metadata": {},
   "outputs": [],
   "source": [
    "#replacing labels\n",
    "data['Species']=data['Species'].replace(['Adelie Penguin (Pygoscelis adeliae)','Gentoo penguin (Pygoscelis papua)','Chinstrap penguin (Pygoscelis antarctica)'],[0,1,2])\n",
    "data['Island']=data['Island'].replace(['Biscoe','Dream','Torgersen'],[0,1,2])\n",
    "data['Clutch Completion']=data['Clutch Completion'].replace(['Yes','No'],[0,1])\n",
    "data['Sex']=data['Sex'].replace(['MALE','FEMALE'],[0,1])"
   ]
  },
  {
   "cell_type": "code",
   "execution_count": 179,
   "id": "69fdcf9e-b73d-4857-90b1-7aa37d2e5041",
   "metadata": {},
   "outputs": [],
   "source": [
    "#fillinf missing values\n",
    "for i in data.columns:\n",
    "    if data[i].dtype=='float64' and i!='Sex':\n",
    "        data[i].fillna(data[i].mean(), inplace=True)\n",
    "    else:\n",
    "        data[i].fillna(data[i].mode(), inplace=True)\n",
    "\n",
    "data['Sex'].fillna(data['Sex'].mode()[0], inplace=True)"
   ]
  },
  {
   "cell_type": "code",
   "execution_count": 190,
   "id": "53970e1a-9332-4094-8d7c-d803ecd56a4f",
   "metadata": {},
   "outputs": [],
   "source": [
    "#splitting dataframe\n",
    "train,test=train_test_split(data,test_size=0.33)\n"
   ]
  },
  {
   "cell_type": "code",
   "execution_count": 191,
   "id": "d1a3ec0a-d309-4eac-8428-70fffe05a60e",
   "metadata": {},
   "outputs": [],
   "source": [
    "#Splitting train and test samples in train.csv\n",
    "x=data.drop('Species',axis=1)\n",
    "y=data['Species']\n",
    "\n",
    "#Split train and test\n",
    "x_train,x_test,y_train,y_test=train_test_split(x,y,test_size=0.3)"
   ]
  },
  {
   "cell_type": "code",
   "execution_count": null,
   "id": "7f566891-aa03-4533-9dd6-32922007a06e",
   "metadata": {},
   "outputs": [],
   "source": []
  },
  {
   "cell_type": "code",
   "execution_count": 192,
   "id": "8c6ff3c3-52b5-4cc1-abfc-48a30f906f68",
   "metadata": {},
   "outputs": [],
   "source": [
    "df0= train[(train['Species']==0) | (train['Species']==1)]\n",
    "df1= train[(train['Species']==1) | (train['Species']==2)]\n",
    "df2= train[(train['Species']==2) | (train['Species']==0)]"
   ]
  },
  {
   "cell_type": "code",
   "execution_count": 213,
   "id": "2f4d9047-069a-48d2-a54c-fd520a03acb7",
   "metadata": {},
   "outputs": [
    {
     "name": "stdout",
     "output_type": "stream",
     "text": [
      "143\n",
      "102\n",
      "121\n"
     ]
    }
   ],
   "source": [
    "#Splitting train and test samples in train.csv\n",
    "df0_x=df0.drop('Species',axis=1)\n",
    "df0_y=df0['Species']\n",
    "\n",
    "df1_x=df1.drop('Species',axis=1)\n",
    "df1_y=df1['Species']\n",
    "\n",
    "df2_x=df2.drop('Species',axis=1)\n",
    "df2_y=df2['Species']\n",
    "\n",
    "print(len(df0_y))\n",
    "print(len(df1_y))\n",
    "print(len(df2_y))\n",
    "\n",
    "#Split train and test \n",
    "df0x_train,df0x_test,df0y_train,df0y_test=train_test_split(df0_x,df0_y,test_size=0.10)\n",
    "df1x_train,df1x_test,df1y_train,df1y_test=train_test_split(df1_x,df1_y,test_size=0.10)\n",
    "df2x_train,df2x_test,df2y_train,df2y_test=train_test_split(df2_x,df2_y,test_size=0.10)\n",
    "\n"
   ]
  },
  {
   "cell_type": "code",
   "execution_count": 257,
   "id": "17c74d01-c63c-4642-ac27-de48c3cdc7ac",
   "metadata": {},
   "outputs": [
    {
     "name": "stdout",
     "output_type": "stream",
     "text": [
      "1.0\n",
      "1.0\n",
      "1.0\n"
     ]
    }
   ],
   "source": [
    "#LogisticRegression\n",
    "\n",
    "model0=LogisticRegression()\n",
    "model0.fit(df0x_train,df0y_train)\n",
    "print(model0.score(df0x_test,df0y_test))\n",
    "\n",
    "model1=LogisticRegression()\n",
    "model1.fit(df1x_train,df1y_train)\n",
    "print(model1.score(df1x_test,df1y_test))\n",
    "\n",
    "model2=LogisticRegression()\n",
    "model2.fit(df2x_train,df2y_train)\n",
    "\n",
    "print(model2.score(df2x_test,df2y_test))"
   ]
  },
  {
   "cell_type": "code",
   "execution_count": 215,
   "id": "ad74f2ac-e81b-4ca7-b822-178dd292912d",
   "metadata": {},
   "outputs": [],
   "source": [
    "#Taking majority\n",
    "y_pred=[]\n",
    "for i in range(len(x_test)):\n",
    "    pred0=model0.predict([x_test.iloc[i,:]])\n",
    "    pred1=model1.predict([x_test.iloc[i,:]])\n",
    "    pred2=model2.predict([x_test.iloc[i,:]])\n",
    "    \n",
    "    \n",
    "    y_pred.append(statistics.mode([pred0[0],pred1[0],pred2[0]]))\n",
    "    "
   ]
  },
  {
   "cell_type": "code",
   "execution_count": 219,
   "id": "0d5575ab-1b06-4371-9de0-381547ddaf4a",
   "metadata": {},
   "outputs": [],
   "source": [
    "#accuracy\n",
    "def accuracy(y_true, y_pred):\n",
    "        accuracy = np.sum(y_true == y_pred) / len(y_true)\n",
    "        return accuracy\n",
    "\n",
    "acc=accuracy(y_test, y_pred)"
   ]
  },
  {
   "cell_type": "code",
   "execution_count": 227,
   "id": "37672922-23ed-42b4-9f54-af801e413310",
   "metadata": {},
   "outputs": [],
   "source": [
    "#prediction labels using penguins_test.csv\n",
    "test_data=pd.read_csv('penguins_test.csv')\n",
    "\n",
    "#data-preprocessing\n",
    "test_data['Island']=test_data['Island'].replace(['Biscoe','Dream','Torgersen'],[0,1,2])\n",
    "test_data['Clutch Completion']=test_data['Clutch Completion'].replace(['Yes','No'],[0,1])\n",
    "test_data['Sex']=test_data['Sex'].replace(['MALE','FEMALE'],[0,1])\n",
    "\n",
    "#fillinf missing values\n",
    "for i in test_data.columns:\n",
    "    if test_data[i].dtype=='float64' and i!='Sex':\n",
    "        test_data[i].fillna(test_data[i].mean(), inplace=True)\n",
    "    else:\n",
    "        test_data[i].fillna(test_data[i].mode(), inplace=True)\n",
    "\n",
    "test_data['Sex'].fillna(test_data['Sex'].mode()[0], inplace=True)"
   ]
  },
  {
   "cell_type": "code",
   "execution_count": 228,
   "id": "ab768862-140f-48a9-8f54-130d781012d2",
   "metadata": {},
   "outputs": [],
   "source": [
    "pred=[]\n",
    "for i in range(len(test_data)):\n",
    "    pred0=model0.predict([test_data.iloc[i,:]])\n",
    "    pred1=model1.predict([test_data.iloc[i,:]])\n",
    "    pred2=model2.predict([test_data.iloc[i,:]])\n",
    "    \n",
    "    pred.append(statistics.mode([pred0[0],pred1[0],pred2[0]]))\n"
   ]
  },
  {
   "cell_type": "code",
   "execution_count": 237,
   "id": "ff864a82-21dd-424f-964c-44de386e5faa",
   "metadata": {},
   "outputs": [],
   "source": [
    "#opening a csv file\n",
    "file=open('output.csv','w+',newline='')\n",
    "Header=['labels']\n",
    "\n",
    "#writing data into csv\n",
    "with file:\n",
    "    write=csv.writer(file)\n",
    "    write.writerow(Header) \n",
    "    write.writerows(map(lambda x: [x], pred))\n"
   ]
  },
  {
   "cell_type": "code",
   "execution_count": 258,
   "id": "f812d3c3-94b4-4fc9-a989-7c125496fd40",
   "metadata": {},
   "outputs": [
    {
     "name": "stdout",
     "output_type": "stream",
     "text": [
      "1.0\n",
      "0.8181818181818182\n",
      "0.6923076923076923\n"
     ]
    }
   ],
   "source": [
    "#with different classifier\n",
    "print(\"KNN\")\n",
    "model0=KNeighborsClassifier()\n",
    "model0.fit(df0x_train,df0y_train)\n",
    "print(model0.score(df0x_test,df0y_test))\n",
    "\n",
    "model1=KNeighborsClassifier()\n",
    "model1.fit(df1x_train,df1y_train)\n",
    "print(model1.score(df1x_test,df1y_test))\n",
    "\n",
    "model2=KNeighborsClassifier()\n",
    "model2.fit(df2x_train,df2y_train)\n",
    "\n",
    "print(model2.score(df2x_test,df2y_test))\n",
    "\n",
    "#Decision Trees\n",
    "print(\"Decision trees\")\n",
    "model0=tree.DecisionTreeClassifier()\n",
    "model0.fit(df0x_train,df0y_train)\n",
    "print(model0.score(df0x_test,df0y_test))\n",
    "\n",
    "model1=tree.DecisionTreeClassifier()\n",
    "model1.fit(df1x_train,df1y_train)\n",
    "print(model1.score(df1x_test,df1y_test))\n",
    "\n",
    "model2=tree.DecisionTreeClassifier()\n",
    "model2.fit(df2x_train,df2y_train)\n",
    "\n",
    "print(model2.score(df2x_test,df2y_test))\n",
    "\n",
    "#Random forest\n",
    "print(\"random forest\")\n",
    "model0=RandomForestClassifier(n_estimators = 100)\n",
    "model0.fit(df0x_train,df0y_train)\n",
    "print(model0.score(df0x_test,df0y_test))\n",
    "\n",
    "model1=RandomForestClassifier(n_estimators = 100)\n",
    "model1.fit(df1x_train,df1y_train)\n",
    "print(model1.score(df1x_test,df1y_test))\n",
    "\n",
    "model2=RandomForestClassifier(n_estimators = 100)\n",
    "model2.fit(df2x_train,df2y_train)\n",
    "\n",
    "print(model2.score(df2x_test,df2y_test))"
   ]
  },
  {
   "cell_type": "code",
   "execution_count": 254,
   "id": "0a9935f3-0fca-4144-8478-de40994acfe1",
   "metadata": {},
   "outputs": [
    {
     "name": "stdout",
     "output_type": "stream",
     "text": [
      "1.0\n",
      "1.0\n",
      "1.0\n"
     ]
    }
   ],
   "source": []
  },
  {
   "cell_type": "code",
   "execution_count": 259,
   "id": "9ed2c24a-b468-4621-8a88-fd1bbde6d34e",
   "metadata": {},
   "outputs": [
    {
     "name": "stdout",
     "output_type": "stream",
     "text": [
      "1.0\n",
      "1.0\n",
      "1.0\n"
     ]
    }
   ],
   "source": []
  },
  {
   "cell_type": "code",
   "execution_count": null,
   "id": "608281ae-3180-42d2-bc9c-73c82e17c5ee",
   "metadata": {},
   "outputs": [],
   "source": []
  }
 ],
 "metadata": {
  "kernelspec": {
   "display_name": "Python 3 (ipykernel)",
   "language": "python",
   "name": "python3"
  },
  "language_info": {
   "codemirror_mode": {
    "name": "ipython",
    "version": 3
   },
   "file_extension": ".py",
   "mimetype": "text/x-python",
   "name": "python",
   "nbconvert_exporter": "python",
   "pygments_lexer": "ipython3",
   "version": "3.10.5"
  }
 },
 "nbformat": 4,
 "nbformat_minor": 5
}
