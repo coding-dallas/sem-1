{
 "cells": [
  {
   "cell_type": "code",
   "execution_count": 1,
   "id": "40812b3f-6624-4c75-924a-73d630b9f2b2",
   "metadata": {},
   "outputs": [],
   "source": [
    "import numpy as np\n",
    "import pandas as pd\n",
    "import warnings\n",
    "warnings.filterwarnings('ignore')"
   ]
  },
  {
   "cell_type": "code",
   "execution_count": 2,
   "id": "8a7cd8da-1cb1-4fa3-a0b7-a8eaf5b45adb",
   "metadata": {},
   "outputs": [],
   "source": [
    "data=pd.read_csv('C:/Users/kesav/OneDrive/Desktop/Academics/Data analytics/Assignment/Assignment-2/data.csv')"
   ]
  },
  {
   "cell_type": "code",
   "execution_count": null,
   "id": "83e5d38a-39d5-4097-b144-53ba4ec0b213",
   "metadata": {},
   "outputs": [],
   "source": []
  },
  {
   "cell_type": "code",
   "execution_count": 3,
   "id": "14c4ae0b-31d4-478b-a924-895866c6c710",
   "metadata": {},
   "outputs": [],
   "source": [
    "def convert_float(x):\n",
    "    return float(x.replace(',',''))\n",
    "data['Price_per_unit_area']=data['Price_per_unit_area'].apply(convert_float)"
   ]
  },
  {
   "cell_type": "code",
   "execution_count": 4,
   "id": "38827f4d-856c-4b48-b9bf-360de743cb01",
   "metadata": {},
   "outputs": [],
   "source": [
    "Budget=data[(data['Price_per_unit_area']>=100) & (data['Price_per_unit_area']<=10000)]\n",
    "Luxury=data[(data['Price_per_unit_area']>10000) & (data['Price_per_unit_area']<=50000)]\n",
    "ultraLuxury=data[(data['Price_per_unit_area']>50000) & (data['Price_per_unit_area']<=100000)]\n",
    "\n"
   ]
  },
  {
   "cell_type": "code",
   "execution_count": null,
   "id": "e7b1a8b0-c89c-483b-8b23-f4ed05ba9efd",
   "metadata": {},
   "outputs": [],
   "source": []
  },
  {
   "cell_type": "code",
   "execution_count": 6,
   "id": "bd4c59dc-2fb9-479d-a7da-c354f5259344",
   "metadata": {},
   "outputs": [],
   "source": [
    "threshold=17\n",
    "for i in data.columns:\n",
    "    temp=data[i].drop_duplicates()\n",
    "    if(len(temp)>threshold):\n",
    "        Budget.pop(i)\n",
    "        Luxury.pop(i)\n",
    "        ultraLuxury.pop(i)\n",
    "    elif data[i].dtype=='bool':\n",
    "        Budget.pop(i)\n",
    "        Luxury.pop(i)\n",
    "        ultraLuxury.pop(i)\n",
    "    elif len(data[i].drop_duplicates())==1:\n",
    "        Budget.pop(i)\n",
    "        Luxury.pop(i)\n",
    "        ultraLuxury.pop(i)\n"
   ]
  },
  {
   "cell_type": "code",
   "execution_count": 7,
   "id": "32ecd5cc-764a-48a1-ba43-25685a38a866",
   "metadata": {},
   "outputs": [
    {
     "name": "stdout",
     "output_type": "stream",
     "text": [
      "City_id\n",
      "City_name\n",
      "No_of_BHK\n"
     ]
    }
   ],
   "source": [
    "#Generalization based on no of distinct values\n",
    "att_thre=5\n",
    "for i in Budget.columns:\n",
    "    if len(Budget[i].drop_duplicates())>att_thre:\n",
    "        if i == \"No_of_BHK\":\n",
    "            Budget['No_of_BHK'] = Budget['No_of_BHK'].replace(['0 BHK','1 RK','1 BHK','2 RK','2 BHK','3 BHK','3 RK','4 BHK'],'Small house')\n",
    "            Budget['No_of_BHK'] = Budget['No_of_BHK'].replace(['5 BHK','6 BHK','7 BHK','8 BHK','9 BHK'],'Luxury')\n",
    "            Budget['No_of_BHK'] = Budget['No_of_BHK'].replace(['10 BHK','11 BHK','12 BHK','14 BHK'],'Bungalow')\n",
    "            \n",
    "            Luxury['No_of_BHK'] = Luxury['No_of_BHK'].replace(['0 BHK','1 RK','1 BHK','2 RK','2 BHK','3 BHK','3 RK','4 BHK'],'Small house')\n",
    "            Luxury['No_of_BHK'] = Luxury['No_of_BHK'].replace(['5 BHK','6 BHK','7 BHK','8 BHK','9 BHK'],'Luxury')\n",
    "            Luxury['No_of_BHK'] = Luxury['No_of_BHK'].replace(['10 BHK','11 BHK','12 BHK','14 BHK'],'Bungalow')\n",
    "            \n",
    "            ultraLuxury['No_of_BHK'] = ultraLuxury['No_of_BHK'].replace(['0 BHK','1 RK','1 BHK','2 RK','2 BHK','3 BHK','3 RK','4 BHK'],'Small house')\n",
    "            ultraLuxury['No_of_BHK'] = ultraLuxury['No_of_BHK'].replace(['5 BHK','6 BHK','7 BHK','8 BHK','9 BHK'],'Luxury')\n",
    "            ultraLuxury['No_of_BHK'] = ultraLuxury['No_of_BHK'].replace(['10 BHK','11 BHK','12 BHK','14 BHK'],'Bungalow')\n",
    "        \n",
    "        elif i == \"City_name\":\n",
    "            Budget['City_name'] = Budget['City_name'].replace(['Ahmedabad','Delhi','Kolkata','Lucknow','Mumbai'],'North India')\n",
    "            Budget['City_name'] = Budget['City_name'].replace(['Chennai','Hyderabad','Bangalore'],'South India')\n",
    "            \n",
    "            Luxury['City_name'] = Luxury['City_name'].replace(['Ahmedabad','Delhi','Kolkata','Lucknow','Mumbai'],'North India')\n",
    "            Luxury['City_name'] = Luxury['City_name'].replace(['Chennai','Hyderabad','Bangalore'],'South India')\n",
    "            \n",
    "            ultraLuxury['City_name'] = ultraLuxury['City_name'].replace(['Ahmedabad','Delhi','Kolkata','Lucknow','Mumbai'],'North India')\n",
    "            ultraLuxury['City_name'] = ultraLuxury['City_name'].replace(['Chennai','Hyderabad','Bangalore'],'South India')\n",
    "        else:\n",
    "            Budget.pop(i)\n",
    "            Luxury.pop(i)\n",
    "            ultraLuxury.pop(i)\n",
    "#Droppping the redundant tuples\n",
    "newBudget = Budget.drop_duplicates(\n",
    "  subset = ['No_of_BHK', 'City_name']).reset_index(drop = True)\n",
    "\n",
    "newLuxury = Luxury.drop_duplicates(\n",
    "  subset = ['No_of_BHK', 'City_name']).reset_index(drop = True)\n",
    "\n",
    "newUltra = ultraLuxury.drop_duplicates(\n",
    "  subset = ['No_of_BHK', 'City_name']).reset_index(drop = True)"
   ]
  },
  {
   "cell_type": "code",
   "execution_count": 10,
   "id": "ddc7a32f-76d0-445c-928d-c0be4d7d2010",
   "metadata": {},
   "outputs": [
    {
     "data": {
      "text/html": [
       "<div>\n",
       "<style scoped>\n",
       "    .dataframe tbody tr th:only-of-type {\n",
       "        vertical-align: middle;\n",
       "    }\n",
       "\n",
       "    .dataframe tbody tr th {\n",
       "        vertical-align: top;\n",
       "    }\n",
       "\n",
       "    .dataframe thead th {\n",
       "        text-align: right;\n",
       "    }\n",
       "</style>\n",
       "<table border=\"1\" class=\"dataframe\">\n",
       "  <thead>\n",
       "    <tr style=\"text-align: right;\">\n",
       "      <th></th>\n",
       "      <th>Property_type</th>\n",
       "      <th>Property_status</th>\n",
       "      <th>Property_building_status</th>\n",
       "      <th>City_name</th>\n",
       "      <th>No_of_BHK</th>\n",
       "      <th>is_furnished</th>\n",
       "    </tr>\n",
       "  </thead>\n",
       "  <tbody>\n",
       "    <tr>\n",
       "      <th>0</th>\n",
       "      <td>Apartment</td>\n",
       "      <td>Ready to move</td>\n",
       "      <td>ACTIVE</td>\n",
       "      <td>South India</td>\n",
       "      <td>Small house</td>\n",
       "      <td>Unfurnished</td>\n",
       "    </tr>\n",
       "    <tr>\n",
       "      <th>1</th>\n",
       "      <td>Independent House</td>\n",
       "      <td>Ready to move</td>\n",
       "      <td>ACTIVE</td>\n",
       "      <td>North India</td>\n",
       "      <td>Luxury</td>\n",
       "      <td>Semi-Furnished</td>\n",
       "    </tr>\n",
       "    <tr>\n",
       "      <th>2</th>\n",
       "      <td>Independent Floor</td>\n",
       "      <td>Ready to move</td>\n",
       "      <td>ACTIVE</td>\n",
       "      <td>North India</td>\n",
       "      <td>Small house</td>\n",
       "      <td>Semi-Furnished</td>\n",
       "    </tr>\n",
       "    <tr>\n",
       "      <th>3</th>\n",
       "      <td>Apartment</td>\n",
       "      <td>Ready to move</td>\n",
       "      <td>ACTIVE</td>\n",
       "      <td>North India</td>\n",
       "      <td>Bungalow</td>\n",
       "      <td>Furnished</td>\n",
       "    </tr>\n",
       "  </tbody>\n",
       "</table>\n",
       "</div>"
      ],
      "text/plain": [
       "       Property_type Property_status Property_building_status    City_name  \\\n",
       "0          Apartment   Ready to move                   ACTIVE  South India   \n",
       "1  Independent House   Ready to move                   ACTIVE  North India   \n",
       "2  Independent Floor   Ready to move                   ACTIVE  North India   \n",
       "3          Apartment   Ready to move                   ACTIVE  North India   \n",
       "\n",
       "     No_of_BHK    is_furnished  \n",
       "0  Small house     Unfurnished  \n",
       "1       Luxury  Semi-Furnished  \n",
       "2  Small house  Semi-Furnished  \n",
       "3     Bungalow       Furnished  "
      ]
     },
     "execution_count": 10,
     "metadata": {},
     "output_type": "execute_result"
    }
   ],
   "source": [
    "newUltra"
   ]
  },
  {
   "cell_type": "code",
   "execution_count": null,
   "id": "8027c95e-3277-4f55-8cc5-d4b6284ab918",
   "metadata": {},
   "outputs": [],
   "source": []
  }
 ],
 "metadata": {
  "kernelspec": {
   "display_name": "Python 3 (ipykernel)",
   "language": "python",
   "name": "python3"
  },
  "language_info": {
   "codemirror_mode": {
    "name": "ipython",
    "version": 3
   },
   "file_extension": ".py",
   "mimetype": "text/x-python",
   "name": "python",
   "nbconvert_exporter": "python",
   "pygments_lexer": "ipython3",
   "version": "3.10.5"
  }
 },
 "nbformat": 4,
 "nbformat_minor": 5
}
