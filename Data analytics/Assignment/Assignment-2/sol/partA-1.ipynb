{
 "cells": [
  {
   "cell_type": "code",
   "execution_count": 6,
   "id": "d53fc004-2ecf-4339-9114-913a580e038a",
   "metadata": {},
   "outputs": [],
   "source": [
    "import numpy as np\n",
    "import pandas as pd"
   ]
  },
  {
   "cell_type": "code",
   "execution_count": 7,
   "id": "c8236249-e7b6-4d34-bc9a-cbcf4a191e19",
   "metadata": {},
   "outputs": [],
   "source": [
    "data=pd.read_csv('C:/Users/kesav/OneDrive/Desktop/Academics/Data analytics/Assignment/Assignment-2/data.csv')"
   ]
  },
  {
   "cell_type": "code",
   "execution_count": 8,
   "id": "30b5620b-109a-4f92-bc70-f6c959d9944d",
   "metadata": {},
   "outputs": [],
   "source": [
    "#Removing attributes that has more no of distinct values\n",
    "threshold=17\n",
    "for i in data.columns:\n",
    "    temp=data[i].drop_duplicates()\n",
    "    if(len(temp)>threshold):\n",
    "        data.pop(i)\n",
    "    elif data[i].dtype=='bool':\n",
    "        data.pop(i)\n",
    "    elif len(data[i].drop_duplicates())==1:\n",
    "        data.pop(i)"
   ]
  },
  {
   "cell_type": "code",
   "execution_count": 10,
   "id": "dde5ff2b-80cb-49f2-87c9-9cd46045c9b1",
   "metadata": {},
   "outputs": [
    {
     "data": {
      "text/html": [
       "<div>\n",
       "<style scoped>\n",
       "    .dataframe tbody tr th:only-of-type {\n",
       "        vertical-align: middle;\n",
       "    }\n",
       "\n",
       "    .dataframe tbody tr th {\n",
       "        vertical-align: top;\n",
       "    }\n",
       "\n",
       "    .dataframe thead th {\n",
       "        text-align: right;\n",
       "    }\n",
       "</style>\n",
       "<table border=\"1\" class=\"dataframe\">\n",
       "  <thead>\n",
       "    <tr style=\"text-align: right;\">\n",
       "      <th></th>\n",
       "      <th>Property_type</th>\n",
       "      <th>Property_status</th>\n",
       "      <th>Property_building_status</th>\n",
       "      <th>City_name</th>\n",
       "      <th>No_of_BHK</th>\n",
       "      <th>is_furnished</th>\n",
       "    </tr>\n",
       "  </thead>\n",
       "  <tbody>\n",
       "    <tr>\n",
       "      <th>0</th>\n",
       "      <td>Apartment</td>\n",
       "      <td>Under Construction</td>\n",
       "      <td>ACTIVE</td>\n",
       "      <td>North India</td>\n",
       "      <td>Small house</td>\n",
       "      <td>Unfurnished</td>\n",
       "    </tr>\n",
       "    <tr>\n",
       "      <th>1</th>\n",
       "      <td>Apartment</td>\n",
       "      <td>Under Construction</td>\n",
       "      <td>ACTIVE</td>\n",
       "      <td>North India</td>\n",
       "      <td>Luxury</td>\n",
       "      <td>Unfurnished</td>\n",
       "    </tr>\n",
       "    <tr>\n",
       "      <th>2</th>\n",
       "      <td>Villa</td>\n",
       "      <td>Ready to move</td>\n",
       "      <td>ACTIVE</td>\n",
       "      <td>North India</td>\n",
       "      <td>Bungalow</td>\n",
       "      <td>Furnished</td>\n",
       "    </tr>\n",
       "    <tr>\n",
       "      <th>3</th>\n",
       "      <td>Apartment</td>\n",
       "      <td>Under Construction</td>\n",
       "      <td>ACTIVE</td>\n",
       "      <td>South India</td>\n",
       "      <td>Small house</td>\n",
       "      <td>Unfurnished</td>\n",
       "    </tr>\n",
       "    <tr>\n",
       "      <th>4</th>\n",
       "      <td>Independent House</td>\n",
       "      <td>Under Construction</td>\n",
       "      <td>ACTIVE</td>\n",
       "      <td>South India</td>\n",
       "      <td>Luxury</td>\n",
       "      <td>Unfurnished</td>\n",
       "    </tr>\n",
       "    <tr>\n",
       "      <th>5</th>\n",
       "      <td>Independent House</td>\n",
       "      <td>Ready to move</td>\n",
       "      <td>ACTIVE</td>\n",
       "      <td>South India</td>\n",
       "      <td>Bungalow</td>\n",
       "      <td>Semi-Furnished</td>\n",
       "    </tr>\n",
       "  </tbody>\n",
       "</table>\n",
       "</div>"
      ],
      "text/plain": [
       "       Property_type     Property_status Property_building_status  \\\n",
       "0          Apartment  Under Construction                   ACTIVE   \n",
       "1          Apartment  Under Construction                   ACTIVE   \n",
       "2              Villa       Ready to move                   ACTIVE   \n",
       "3          Apartment  Under Construction                   ACTIVE   \n",
       "4  Independent House  Under Construction                   ACTIVE   \n",
       "5  Independent House       Ready to move                   ACTIVE   \n",
       "\n",
       "     City_name    No_of_BHK    is_furnished  \n",
       "0  North India  Small house     Unfurnished  \n",
       "1  North India       Luxury     Unfurnished  \n",
       "2  North India     Bungalow       Furnished  \n",
       "3  South India  Small house     Unfurnished  \n",
       "4  South India       Luxury     Unfurnished  \n",
       "5  South India     Bungalow  Semi-Furnished  "
      ]
     },
     "execution_count": 10,
     "metadata": {},
     "output_type": "execute_result"
    }
   ],
   "source": [
    "#Generalization based on no of distinct values\n",
    "att_thre=5\n",
    "for i in data.columns:\n",
    "    if len(data[i].drop_duplicates())>att_thre:\n",
    "        if i == \"No_of_BHK\":\n",
    "            data['No_of_BHK'] = data['No_of_BHK'].replace(['0 BHK','1 RK','1 BHK','2 RK','2 BHK','3 BHK','3 RK','4 BHK'],'Small house')\n",
    "            data['No_of_BHK'] = data['No_of_BHK'].replace(['5 BHK','6 BHK','7 BHK','8 BHK','9 BHK'],'Luxury')\n",
    "            data['No_of_BHK'] = data['No_of_BHK'].replace(['10 BHK','11 BHK','12 BHK','14 BHK'],'Bungalow')\n",
    "        \n",
    "        elif i == \"City_name\":\n",
    "    \n",
    "            data['City_name'] = data['City_name'].replace(['Ahmedabad','Delhi','Kolkata','Lucknow','Mumbai'],'North India')\n",
    "            data['City_name'] = data['City_name'].replace(['Chennai','Hyderabad','Bangalore'],'South India')\n",
    "        else:\n",
    "            data.pop(i)\n",
    "#Droppping the redundant tuples\n",
    "newData = data.drop_duplicates(\n",
    "  subset = ['No_of_BHK', 'City_name']).reset_index(drop = True)\n",
    "\n",
    "newData"
   ]
  },
  {
   "cell_type": "code",
   "execution_count": null,
   "id": "e7150328-7ee0-41a9-a9be-4cd8cf079b08",
   "metadata": {},
   "outputs": [],
   "source": []
  },
  {
   "cell_type": "code",
   "execution_count": null,
   "id": "d1b77918-330c-47fb-ac69-4fbfb75e5858",
   "metadata": {},
   "outputs": [],
   "source": []
  },
  {
   "cell_type": "code",
   "execution_count": null,
   "id": "75fd668a-f5fe-4b6a-a224-137711fa062b",
   "metadata": {},
   "outputs": [],
   "source": []
  }
 ],
 "metadata": {
  "kernelspec": {
   "display_name": "Python 3 (ipykernel)",
   "language": "python",
   "name": "python3"
  },
  "language_info": {
   "codemirror_mode": {
    "name": "ipython",
    "version": 3
   },
   "file_extension": ".py",
   "mimetype": "text/x-python",
   "name": "python",
   "nbconvert_exporter": "python",
   "pygments_lexer": "ipython3",
   "version": "3.10.5"
  }
 },
 "nbformat": 4,
 "nbformat_minor": 5
}
