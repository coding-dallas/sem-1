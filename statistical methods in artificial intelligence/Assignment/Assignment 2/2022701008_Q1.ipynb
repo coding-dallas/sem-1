{
 "cells": [
  {
   "cell_type": "markdown",
   "id": "186be3d3",
   "metadata": {
    "tags": []
   },
   "source": [
    "# Assignment 2 - Question 1\n",
    "The objective of this assignment is to get you familiarize with  the  problem  of  `KNN Classifiers`.\n",
    "\n",
    "\n",
    "## Instructions\n",
    "- Do not Use Direct Inbuilt functions for the Task.\n",
    "- Numpy or other math libraries are allowed \n",
    "- Ensure that this notebook runs without errors when the cells are run in sequence.\n",
    "- Do not change the contents of the Given cells. Use new cells to Write your code.\n",
    "\n",
    "\n",
    "## Submission\n",
    "- Ensure that this notebook runs without errors when the cells are run in sequence.\n",
    "- Rename the notebook to `<roll_number>_Q1.ipynb`\n",
    "- Fill the Name and Roll number in the below markdown"
   ]
  },
  {
   "cell_type": "markdown",
   "id": "6f6269f1",
   "metadata": {},
   "source": [
    "Name: Kesavaraj<br>\n",
    "Roll Number: 2022701008"
   ]
  },
  {
   "cell_type": "markdown",
   "id": "edeabff5",
   "metadata": {},
   "source": [
    "### Dataset\n",
    "\n",
    "Use the code below to load the Dataset"
   ]
  },
  {
   "cell_type": "code",
   "execution_count": 3,
   "id": "69cac090",
   "metadata": {},
   "outputs": [],
   "source": [
    "import numpy as np\n",
    "import pandas as pd\n",
    "from sklearn.model_selection import train_test_split\n",
    "from tabulate import tabulate"
   ]
  },
  {
   "cell_type": "code",
   "execution_count": 4,
   "id": "e0fa6912",
   "metadata": {},
   "outputs": [],
   "source": [
    "#Load data\n",
    "iris = pd.read_csv('Iris.csv')\n",
    "#data cleaning\n",
    "iris.drop(columns=\"Id\",inplace=True)"
   ]
  },
  {
   "cell_type": "code",
   "execution_count": 5,
   "id": "3b822511-b320-4e08-8621-292751630349",
   "metadata": {},
   "outputs": [],
   "source": [
    "iris['Species']=iris['Species'].replace(['Iris-setosa','Iris-versicolor','Iris-virginica'],[0,1,2])"
   ]
  },
  {
   "cell_type": "code",
   "execution_count": 6,
   "id": "1ca8135b",
   "metadata": {},
   "outputs": [],
   "source": [
    "#features and labels\n",
    "X=iris.iloc[:,0:4].values\n",
    "y=iris.iloc[:,4].values\n",
    "\n",
    "#Train and Test split\n",
    "X_train,X_test,y_train,y_test=train_test_split(X,y,test_size=0.2,random_state=0)\n"
   ]
  },
  {
   "cell_type": "markdown",
   "id": "d14014cb",
   "metadata": {},
   "source": [
    "Write your Code below for KNN Classifier.<br>\n",
    "Use different values of K and test the accuracies."
   ]
  },
  {
   "cell_type": "code",
   "execution_count": 7,
   "id": "78cfa82c-c98d-44b1-8554-109c5e76b8ba",
   "metadata": {},
   "outputs": [],
   "source": [
    "from collections import Counter\n",
    "from matplotlib.colors import ListedColormap\n",
    "from sklearn import datasets\n",
    "import matplotlib.pyplot as plt"
   ]
  },
  {
   "cell_type": "code",
   "execution_count": 8,
   "id": "6ca8c19d",
   "metadata": {},
   "outputs": [],
   "source": [
    "class KNN:\n",
    "    def __init__(self, k=3):\n",
    "        self.k = k\n",
    "        \n",
    "    def euclidean_distance(self,x1, x2):\n",
    "        return np.sqrt(np.sum((x1 - x2) ** 2))\n",
    "\n",
    "    def fit(self, X, y):\n",
    "        self.X_train = X\n",
    "        self.y_train = y\n",
    "\n",
    "    def predict(self, X):\n",
    "        y_pred = [self._predict(x) for x in X]\n",
    "        return np.array(y_pred)\n",
    "\n",
    "    def _predict(self, x):\n",
    "        distances = [self.euclidean_distance(x, x_train) for x_train in self.X_train]\n",
    "        k_idx = np.argsort(distances)[: self.k]\n",
    "    \n",
    "        k_neighbor_labels = [self.y_train[i] for i in k_idx]\n",
    "        \n",
    "        most_common = Counter(k_neighbor_labels).most_common(1)\n",
    "        return most_common[0][0]\n",
    "    \n",
    "    def accuracy(self,y_true, y_pred):\n",
    "        accuracy = np.sum(y_true == y_pred) / len(y_true)\n",
    "        return accuracy\n",
    "\n",
    "\n",
    "if __name__ == \"__main__\":\n",
    "    k_values=range(1,50,2)\n",
    "    acc=[]\n",
    "    for i in k_values:\n",
    "        clf = KNN(k=i)\n",
    "        clf.fit(X_train, y_train)\n",
    "        predictions = clf.predict(X_test)\n",
    "        acc.append([i,clf.accuracy(y_test, predictions)])"
   ]
  },
  {
   "cell_type": "code",
   "execution_count": 9,
   "id": "b5c018dd-755b-4c4f-b097-d96f5d3eeca6",
   "metadata": {},
   "outputs": [
    {
     "name": "stdout",
     "output_type": "stream",
     "text": [
      "+------------+------------+\n",
      "|   k values |   acurracy |\n",
      "+============+============+\n",
      "|          1 |   1        |\n",
      "+------------+------------+\n",
      "|          3 |   0.966667 |\n",
      "+------------+------------+\n",
      "|          5 |   0.966667 |\n",
      "+------------+------------+\n",
      "|          7 |   1        |\n",
      "+------------+------------+\n",
      "|          9 |   1        |\n",
      "+------------+------------+\n",
      "|         11 |   1        |\n",
      "+------------+------------+\n",
      "|         13 |   1        |\n",
      "+------------+------------+\n",
      "|         15 |   1        |\n",
      "+------------+------------+\n",
      "|         17 |   1        |\n",
      "+------------+------------+\n",
      "|         19 |   1        |\n",
      "+------------+------------+\n",
      "|         21 |   1        |\n",
      "+------------+------------+\n",
      "|         23 |   1        |\n",
      "+------------+------------+\n",
      "|         25 |   1        |\n",
      "+------------+------------+\n",
      "|         27 |   0.966667 |\n",
      "+------------+------------+\n",
      "|         29 |   0.966667 |\n",
      "+------------+------------+\n",
      "|         31 |   0.933333 |\n",
      "+------------+------------+\n",
      "|         33 |   0.933333 |\n",
      "+------------+------------+\n",
      "|         35 |   0.933333 |\n",
      "+------------+------------+\n",
      "|         37 |   0.933333 |\n",
      "+------------+------------+\n",
      "|         39 |   0.933333 |\n",
      "+------------+------------+\n",
      "|         41 |   0.933333 |\n",
      "+------------+------------+\n",
      "|         43 |   0.933333 |\n",
      "+------------+------------+\n",
      "|         45 |   0.933333 |\n",
      "+------------+------------+\n",
      "|         47 |   0.9      |\n",
      "+------------+------------+\n",
      "|         49 |   0.9      |\n",
      "+------------+------------+\n"
     ]
    }
   ],
   "source": [
    "#display table\n",
    "header=[\"k values\",'acurracy']\n",
    "print(tabulate(acc, headers=header, tablefmt=\"grid\"))"
   ]
  },
  {
   "cell_type": "markdown",
   "id": "1c3ac0ca",
   "metadata": {},
   "source": [
    "### Questions\n",
    "\n",
    "1) What are the Advantages and Disadvantages of KNN algorithm?<br>\n",
    "2) What is the complexity of the KNN algorithm during Training and Testing?<br> \n",
    "3) Is euclidian distance the only distance metric used in KNN? \n",
    "4) what K value gave the best accuracy?\n",
    "\n",
    "### Answers\n",
    "1) Advantages:<br>\n",
    "No Training Period- KNN modeling does not include training period as the data itself is a model which will be the reference for future prediction    and because of this it is very time efficient in term of improvising for a random modeling on the available data<br>\n",
    "Easy Implementation- KNN is very easy to implement as the only thing to be calculated is the distance between different points on the basis of data of different features<br>\n",
    "Disadvantages:<br>\n",
    "Does not work well with large dataset as calculating distances between each data instance would be very costly.<br>\n",
    "Sensitive to noisy and missing data<br>\n",
    "\n",
    "2)\n",
    "The time complexity of the kNN algorithm is O(nd); n is the total number of data-points in the training data and d is the total number of features in the dataset.\n",
    "All distances will be computed for a new query point.\n",
    "\n",
    "3)No. Following are the some other distance measures<br>\n",
    "Minkowski<br>\n",
    "Manhattan<br>\n",
    "Cosine<br>\n",
    "\n",
    "4) k value ranging from 7 to 25 with step size of 2 is giving the best accuracy of 100%"
   ]
  },
  {
   "cell_type": "markdown",
   "id": "47958869",
   "metadata": {},
   "source": []
  }
 ],
 "metadata": {
  "kernelspec": {
   "display_name": "Python 3 (ipykernel)",
   "language": "python",
   "name": "python3"
  },
  "language_info": {
   "codemirror_mode": {
    "name": "ipython",
    "version": 3
   },
   "file_extension": ".py",
   "mimetype": "text/x-python",
   "name": "python",
   "nbconvert_exporter": "python",
   "pygments_lexer": "ipython3",
   "version": "3.10.5"
  }
 },
 "nbformat": 4,
 "nbformat_minor": 5
}
