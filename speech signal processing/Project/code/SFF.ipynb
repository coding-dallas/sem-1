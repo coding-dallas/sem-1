{
 "cells": [
  {
   "cell_type": "code",
   "execution_count": 5,
   "id": "ecdbac45-f6d1-4431-8e8b-42b39b45ce7d",
   "metadata": {},
   "outputs": [
    {
     "ename": "ModuleNotFoundError",
     "evalue": "No module named 'run'",
     "output_type": "error",
     "traceback": [
      "\u001b[1;31m---------------------------------------------------------------------------\u001b[0m",
      "\u001b[1;31mModuleNotFoundError\u001b[0m                       Traceback (most recent call last)",
      "Input \u001b[1;32mIn [5]\u001b[0m, in \u001b[0;36m<cell line: 4>\u001b[1;34m()\u001b[0m\n\u001b[0;32m      1\u001b[0m \u001b[38;5;28;01mimport\u001b[39;00m \u001b[38;5;21;01mtime\u001b[39;00m\n\u001b[0;32m      2\u001b[0m \u001b[38;5;28;01mimport\u001b[39;00m \u001b[38;5;21;01mos\u001b[39;00m\n\u001b[1;32m----> 4\u001b[0m \u001b[38;5;28;01mfrom\u001b[39;00m \u001b[38;5;21;01mrun\u001b[39;00m \u001b[38;5;28;01mimport\u001b[39;00m \u001b[38;5;241m*\u001b[39m\n\u001b[0;32m      5\u001b[0m \u001b[38;5;28;01mfrom\u001b[39;00m \u001b[38;5;21;01msklearn\u001b[39;00m\u001b[38;5;21;01m.\u001b[39;00m\u001b[38;5;21;01msvm\u001b[39;00m \u001b[38;5;28;01mimport\u001b[39;00m SVC\n\u001b[0;32m      6\u001b[0m \u001b[38;5;28;01mfrom\u001b[39;00m \u001b[38;5;21;01msklearn\u001b[39;00m\u001b[38;5;21;01m.\u001b[39;00m\u001b[38;5;21;01mmodel_selection\u001b[39;00m \u001b[38;5;28;01mimport\u001b[39;00m \u001b[38;5;241m*\u001b[39m\n",
      "\u001b[1;31mModuleNotFoundError\u001b[0m: No module named 'run'"
     ]
    }
   ],
   "source": [
    "import time\n",
    "import os\n",
    "\n",
    "from run import *\n",
    "from sklearn.svm import SVC\n",
    "from sklearn.model_selection import *\n",
    "from sklearn.metrics import *\n"
   ]
  },
  {
   "cell_type": "code",
   "execution_count": 6,
   "id": "0bf656df-5d55-4645-9b8e-b03906d8f4be",
   "metadata": {},
   "outputs": [
    {
     "name": "stdout",
     "output_type": "stream",
     "text": [
      "Collecting run\n",
      "  Using cached run-0.2.tar.gz (3.2 kB)\n",
      "  Preparing metadata (setup.py): started\n",
      "  Preparing metadata (setup.py): finished with status 'error'\n",
      "Note: you may need to restart the kernel to use updated packages.\n"
     ]
    },
    {
     "name": "stderr",
     "output_type": "stream",
     "text": [
      "  error: subprocess-exited-with-error\n",
      "  \n",
      "  python setup.py egg_info did not run successfully.\n",
      "  exit code: 1\n",
      "  \n",
      "  [6 lines of output]\n",
      "  Traceback (most recent call last):\n",
      "    File \"<string>\", line 2, in <module>\n",
      "    File \"<pip-setuptools-caller>\", line 34, in <module>\n",
      "    File \"C:\\Users\\kesav\\AppData\\Local\\Temp\\pip-install-1sahbtze\\run_4697b582b45d470480c24c09601dedea\\setup.py\", line 12, in <module>\n",
      "      long_description=file('README').read(),\n",
      "  NameError: name 'file' is not defined. Did you mean: 'filter'?\n",
      "  [end of output]\n",
      "  \n",
      "  note: This error originates from a subprocess, and is likely not a problem with pip.\n",
      "error: metadata-generation-failed\n",
      "\n",
      "Encountered error while generating package metadata.\n",
      "\n",
      "See above for output.\n",
      "\n",
      "note: This is an issue with the package mentioned above, not pip.\n",
      "hint: See above for details.\n"
     ]
    }
   ],
   "source": [
    "pip install run"
   ]
  },
  {
   "cell_type": "code",
   "execution_count": null,
   "id": "543c9421-a83c-4337-acea-33faffde413c",
   "metadata": {},
   "outputs": [],
   "source": [
    "tic = time.time()\n",
    "\n",
    "#root_path='/home/ganesh/Downloads/prj_1/test_vecs/SVDDB/'\n",
    "root_path='./SVD_temp_for_project/'\n",
    "arr = os.listdir(root_path)\n",
    "\n",
    "\n",
    "\n",
    "def sff_modified(r):\n",
    "    ccc = []\n",
    "    y = []\n",
    "    for i in range(len(arr)):\n",
    "        main_path = os.path.join(root_path,arr[i])\n",
    "        main_dir = os.listdir(main_path)\n",
    "\n",
    "        for j in range(len(main_dir)):\n",
    "            if main_path.split('/')[-1] == 'spasmodic dysphonia_temp':\n",
    "                 y.append(0)\n",
    "\n",
    "                sff_filter_wts = my_sff(os.path.join(main_path,main_dir[j]),20,100,0.984,16000)\n",
    "                sffcc_13 = my_cepstral_coeff(sff_filter_wts,13)\n",
    "                del_1 = delta(sffcc_13,2)\n",
    "                del_del = delta(del_1,2)\n",
    "                fnl_sffcc = np.concatenate((sffcc_13,del_1,del_del),axis=0)\n",
    "                ccc.append(fnl_sffcc)\n",
    "            else:\n",
    "            #elif main_path.split('/')[-1]=='Healthy_temp':\n",
    "                y.append(1)\n",
    "\n",
    "                sff_filter_wts = my_sff(os.path.join(main_path,main_dir[j]),20,100,0.984,16000)\n",
    "                sffcc_13 = my_cepstral_coeff(sff_filter_wts,13)\n",
    "                del_1 = delta(sffcc_13,2)\n",
    "                del_del = delta(del_1,2)\n",
    "                fnl_sffcc = np.concatenate((sffcc_13,del_1,del_del),axis=0)\n",
    "                ccc.append(fnl_sffcc)\n",
    "    return ccc,y\n",
    "def sff_features(y,ccc):\n",
    "    y = np.array(y)\n",
    "    y = y.reshape(np.shape(y)[0],1)\n",
    "    ccc = np.abs(ccc)\n",
    "    ccc = ccc.reshape(ccc.shape[0],ccc.shape[1]*ccc.shape[2])\n",
    "    return y,ccc\n",
    "def modified_spectrogram(ekr):\n",
    "    for i in range(len(ekr)):\n",
    "        if ekr[i]>1:\n",
    "            ekr[i]=ekr[i]-1\n",
    "        elif ekr[i]<1:\n",
    "            ekr[i] =0\n",
    "    return ekr\n",
    "def modified_sff_diff(eks):\n",
    "    for i in range(len(eks)):\n",
    "        if eks[i]>0:\n",
    "            eks[i]=eks[i]\n",
    "        elif eks[i]<0:\n",
    "            eks[i] =0\n",
    "    return eks\n",
    "    \n",
    "r=0.984\n",
    "rd=r-0.0001\n",
    "ccc,y=sff_modified(r)\n",
    "ccc_rd,y_rd=sff_modified(rd)\n",
    "y,ccc=sff_features(y,ccc)\n",
    "y_rd,ccc_rd=sff_features(y_rd,ccc_rd)\n",
    "sff_ratio_spec=es = [i / j for i, j in zip(ccc, ccc_rd)]\n",
    "vkr=modified_spectrogram(sff_ratio_spec)\n",
    "sff_diff=[i-j for i, j in zip(ccc, ccc_rd)]\n",
    "vks=modified_sff_diff(sff_diff)\n",
    "\n",
    "#plot_spectrogram(ccc,samplingFrequency=16000)\n",
    "#//////////////////////////////////////////////////////////////////\n",
    "#X_train, X_test, y_train, y_test = train_test_split(ccc, y, test_size = 0.2, random_state = 42, shuffle = True)\n",
    "#/////////////////////////////////////////////////////////////\n",
    "#param_grid = {'C': [1e3, 5e3, 1e4, 5e4, 1e5],\n",
    "#              'gamma': [0.0001, 0.0005, 0.001, 0.005, 0.01, 0.1], }\n",
    "#clf = GridSearchCV(\n",
    "#    SVC(kernel='rbf', class_weight='balanced'), param_grid)\n",
    "\n",
    "#/////////////////////////////////////////////////////////\n",
    "#clf = SVC(kernel = 'rbf', probability=True)\n",
    "#clf.fit(X_train, y_train)\n",
    "#y_pred=clf.predict(X_test)\n",
    "#print(accuracy_score( y_test,clf.predict(X_test))*100)#\n",
    "#print(accuracy_score(y_test,y_pred)*100)\n",
    "#print(confusion_matrix(y_true, y_pred))\n",
    "\n",
    "toc = time.time()\n",
    "print(str(toc-tic)+\" seconds\" )\n"
   ]
  }
 ],
 "metadata": {
  "kernelspec": {
   "display_name": "Python 3 (ipykernel)",
   "language": "python",
   "name": "python3"
  },
  "language_info": {
   "codemirror_mode": {
    "name": "ipython",
    "version": 3
   },
   "file_extension": ".py",
   "mimetype": "text/x-python",
   "name": "python",
   "nbconvert_exporter": "python",
   "pygments_lexer": "ipython3",
   "version": "3.10.5"
  }
 },
 "nbformat": 4,
 "nbformat_minor": 5
}
