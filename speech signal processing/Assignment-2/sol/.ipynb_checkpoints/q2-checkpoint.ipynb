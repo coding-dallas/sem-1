{
 "cells": [
  {
   "cell_type": "code",
   "execution_count": 8,
   "id": "5967b83f-be0d-4226-a39d-37bf9b7391ed",
   "metadata": {},
   "outputs": [
    {
     "ename": "ModuleNotFoundError",
     "evalue": "No module named 'statsmodels'",
     "output_type": "error",
     "traceback": [
      "\u001b[1;31m---------------------------------------------------------------------------\u001b[0m",
      "\u001b[1;31mModuleNotFoundError\u001b[0m                       Traceback (most recent call last)",
      "Input \u001b[1;32mIn [8]\u001b[0m, in \u001b[0;36m<cell line: 5>\u001b[1;34m()\u001b[0m\n\u001b[0;32m      3\u001b[0m \u001b[38;5;28;01mfrom\u001b[39;00m \u001b[38;5;21;01mmatplotlib\u001b[39;00m \u001b[38;5;28;01mimport\u001b[39;00m pyplot \u001b[38;5;28;01mas\u001b[39;00m plt\n\u001b[0;32m      4\u001b[0m \u001b[38;5;28;01mfrom\u001b[39;00m \u001b[38;5;21;01mscipy\u001b[39;00m\u001b[38;5;21;01m.\u001b[39;00m\u001b[38;5;21;01msignal\u001b[39;00m \u001b[38;5;28;01mimport\u001b[39;00m find_peaks\n\u001b[1;32m----> 5\u001b[0m \u001b[38;5;28;01mimport\u001b[39;00m \u001b[38;5;21;01mstatsmodels\u001b[39;00m\u001b[38;5;21;01m.\u001b[39;00m\u001b[38;5;21;01mapi\u001b[39;00m \u001b[38;5;28;01mas\u001b[39;00m \u001b[38;5;21;01msm\u001b[39;00m\n\u001b[0;32m      7\u001b[0m fileName\u001b[38;5;241m=\u001b[39m\u001b[38;5;124m'\u001b[39m\u001b[38;5;124mC:/Users/kesav/OneDrive/Desktop/Academics/speech signal processing/Assignment-2/chunk1.wav\u001b[39m\u001b[38;5;124m'\u001b[39m\n\u001b[0;32m      8\u001b[0m samplerate,amp\u001b[38;5;241m=\u001b[39mwavfile\u001b[38;5;241m.\u001b[39mread(fileName)\n",
      "\u001b[1;31mModuleNotFoundError\u001b[0m: No module named 'statsmodels'"
     ]
    }
   ],
   "source": [
    "from scipy.io import wavfile\n",
    "import numpy as np\n",
    "from matplotlib import pyplot as plt\n",
    "from scipy.signal import find_peaks\n",
    "from statsmodels.graphics import tsaplots\n",
    "\n",
    "fileName='C:/Users/kesav/OneDrive/Desktop/Academics/speech signal processing/Assignment-2/chunk1.wav'\n",
    "samplerate,amp=wavfile.read(fileName)\n",
    "length = amp.shape[0] / samplerate\n",
    "\n",
    "frame_size = 0.025\n",
    "frame_stride = 0.01\n",
    "\n",
    "frame_length,frame_step = frame_size * samplerate, frame_stride * samplerate\n",
    "frame_length=round(frame_length)\n",
    "\n",
    "signal_length=len(amp)\n",
    "num_frames =round(signal_length/frame_length)\n",
    "\n",
    "frame_index=[0]\n",
    "temp=0\n",
    "\n",
    "for i in range(1,num_frames):\n",
    "    temp+=frame_length\n",
    "    frame_index.append(temp)\n",
    "    \n",
    "\n",
    "frame_no=2\n",
    "\n",
    "x=range(frame_index[frame_no],frame_index[frame_no]+frame_length)\n",
    "\n",
    "plt.figure(0)\n",
    "plt.plot(x,amp[frame_index[frame_no]:frame_index[frame_no]+frame_length])\n",
    "\n",
    "peaks=find_peaks(amp[frame_index[frame_no]:frame_index[frame_no]+frame_length])\n",
    "print(peaks)\n",
    "\n",
    "sm.tsa.acf(amp[frame_index[frame_no]:frame_index[frame_no]+frame_length])\n",
    "print(x)\n",
    "\n",
    "time = np.linspace(0, length, amp.shape[0])\n",
    "plt.figure(1)\n",
    "plt.plot(time,amp)\n",
    "plt.xlabel('time')\n",
    "plt.ylabel('amplitude')\n",
    "plt.title('Time domain plot')"
   ]
  },
  {
   "cell_type": "code",
   "execution_count": null,
   "id": "cda05a4a-02ee-42da-99c7-6c91bbafe5fc",
   "metadata": {},
   "outputs": [],
   "source": []
  }
 ],
 "metadata": {
  "kernelspec": {
   "display_name": "Python 3 (ipykernel)",
   "language": "python",
   "name": "python3"
  },
  "language_info": {
   "codemirror_mode": {
    "name": "ipython",
    "version": 3
   },
   "file_extension": ".py",
   "mimetype": "text/x-python",
   "name": "python",
   "nbconvert_exporter": "python",
   "pygments_lexer": "ipython3",
   "version": "3.10.5"
  }
 },
 "nbformat": 4,
 "nbformat_minor": 5
}
