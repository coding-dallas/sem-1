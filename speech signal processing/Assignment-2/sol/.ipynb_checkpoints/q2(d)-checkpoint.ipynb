{
 "cells": [
  {
   "cell_type": "code",
   "execution_count": 1,
   "id": "0ef26962-66fa-4cb3-8ca6-afc740d48e1f",
   "metadata": {},
   "outputs": [],
   "source": [
    "from scipy.io import wavfile\n",
    "import numpy as np\n",
    "from matplotlib import pyplot as plt\n",
    "from scipy.signal import correlate, find_peaks\n",
    "import statsmodels.api as sm\n",
    "from statsmodels.graphics import tsaplots"
   ]
  },
  {
   "cell_type": "code",
   "execution_count": 4,
   "id": "649a4d89-802a-49ad-975a-e732eede3f56",
   "metadata": {},
   "outputs": [],
   "source": [
    "fileName='C:/Users/kesav/OneDrive/Desktop/Academics/speech signal processing/Assignment-2/chunk1.wav'\n",
    "samplerate,amp=wavfile.read(fileName)\n",
    "length = amp.shape[0]\n",
    "t = length / samplerate"
   ]
  },
  {
   "cell_type": "code",
   "execution_count": 30,
   "id": "1258fdb9-c67c-4963-8d86-c1eb2c0508e7",
   "metadata": {},
   "outputs": [
    {
     "name": "stdout",
     "output_type": "stream",
     "text": [
      "8\n",
      "[   8048.6131   43702.9973 -205761.1716  164811.604  -177325.9368\n",
      " -170000.156  -177923.7089   99372.2698]\n"
     ]
    },
    {
     "name": "stderr",
     "output_type": "stream",
     "text": [
      "C:\\Users\\kesav\\AppData\\Local\\Temp\\ipykernel_32392\\3020282983.py:26: RuntimeWarning: overflow encountered in int_scalars\n",
      "  sum=sum+y[i]**2\n"
     ]
    },
    {
     "data": {
      "text/plain": [
       "<matplotlib.collections.PathCollection at 0x1c84d471ff0>"
      ]
     },
     "execution_count": 30,
     "metadata": {},
     "output_type": "execute_result"
    },
    {
     "data": {
      "image/png": "[encoded data removed]",
      "text/plain": [
       "<Figure size 640x480 with 1 Axes>"
      ]
     },
     "metadata": {},
     "output_type": "display_data"
    }
   ],
   "source": [
    "frame_size = 0.025\n",
    "frame_stride = 0.01\n",
    "\n",
    "frame_length,frame_step = frame_size * samplerate, frame_stride * samplerate\n",
    "frame_length=round(frame_length)\n",
    "\n",
    "\n",
    "num_frames =round(signal_length/frame_length)\n",
    "\n",
    "frame_index=[0]\n",
    "temp=0\n",
    "\n",
    "for i in range(1,num_frames):\n",
    "    temp+=frame_length\n",
    "    frame_index.append(temp)\n",
    "\n",
    "print(len(frame_index))\n",
    "\n",
    "frame_no=2\n",
    "final=[]\n",
    "for i in range(len(frame_index)):\n",
    "    x=range(frame_index[i],frame_index[i]+frame_length)\n",
    "    y=amp[frame_index[i]:frame_index[i]+frame_length]\n",
    "    sum=0\n",
    "    for i in range(len(y)):\n",
    "        sum=sum+y[i]**2\n",
    "    final.append(sum)\n",
    "\n",
    "final=np.array(final)\n",
    "print(final/10000) \n",
    "\n",
    "plt.scatter(range(len(final)),final)\n",
    "\n"
   ]
  },
  {
   "cell_type": "code",
   "execution_count": null,
   "id": "be3b14c2-8f0f-4aae-95e3-de57597cdfe9",
   "metadata": {},
   "outputs": [],
   "source": []
  },
  {
   "cell_type": "code",
   "execution_count": null,
   "id": "7df69c35-f14d-4de5-9914-59c41b5eb6ed",
   "metadata": {},
   "outputs": [],
   "source": []
  }
 ],
 "metadata": {
  "kernelspec": {
   "display_name": "Python 3 (ipykernel)",
   "language": "python",
   "name": "python3"
  },
  "language_info": {
   "codemirror_mode": {
    "name": "ipython",
    "version": 3
   },
   "file_extension": ".py",
   "mimetype": "text/x-python",
   "name": "python",
   "nbconvert_exporter": "python",
   "pygments_lexer": "ipython3",
   "version": "3.10.5"
  }
 },
 "nbformat": 4,
 "nbformat_minor": 5
}
