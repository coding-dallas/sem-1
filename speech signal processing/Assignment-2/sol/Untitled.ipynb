{
 "cells": [
  {
   "cell_type": "code",
   "execution_count": 1,
   "id": "ffb50ad8-63a4-40d0-931f-d0f8bb32819f",
   "metadata": {},
   "outputs": [],
   "source": [
    "from scipy.io import wavfile\n",
    "import numpy as np\n",
    "from matplotlib import pyplot as plt\n",
    "from scipy.signal import correlate, find_peaks\n",
    "import statsmodels.api as sm\n",
    "from statsmodels.graphics import tsaplots"
   ]
  },
  {
   "cell_type": "code",
   "execution_count": 26,
   "id": "9785615d-91c3-4ad3-89e5-d860fb45f11f",
   "metadata": {},
   "outputs": [
    {
     "name": "stdout",
     "output_type": "stream",
     "text": [
      "9072\n"
     ]
    },
    {
     "ename": "TypeError",
     "evalue": "'int' object is not callable",
     "output_type": "error",
     "traceback": [
      "\u001b[1;31m---------------------------------------------------------------------------\u001b[0m",
      "\u001b[1;31mTypeError\u001b[0m                                 Traceback (most recent call last)",
      "Input \u001b[1;32mIn [26]\u001b[0m, in \u001b[0;36m<cell line: 6>\u001b[1;34m()\u001b[0m\n\u001b[0;32m      4\u001b[0m t \u001b[38;5;241m=\u001b[39m length \u001b[38;5;241m/\u001b[39m samplerate\n\u001b[0;32m      5\u001b[0m \u001b[38;5;28mprint\u001b[39m(length)\n\u001b[1;32m----> 6\u001b[0m \u001b[38;5;28mprint\u001b[39m(\u001b[38;5;28;43mlen\u001b[39;49m\u001b[43m(\u001b[49m\u001b[43mamp\u001b[49m\u001b[43m)\u001b[49m)\n",
      "\u001b[1;31mTypeError\u001b[0m: 'int' object is not callable"
     ]
    }
   ],
   "source": [
    "fileName='C:/Users/kesav/OneDrive/Desktop/Academics/speech signal processing/Assignment-2/chunk1.wav'\n",
    "samplerate,amp=wavfile.read(fileName)\n",
    "length = amp.shape[0]\n",
    "t = length / samplerate\n",
    "print(length)\n",
    "print(len(amp))"
   ]
  },
  {
   "cell_type": "code",
   "execution_count": 22,
   "id": "c0095852-acb4-4f1f-827e-0e9818116d38",
   "metadata": {},
   "outputs": [
    {
     "name": "stdout",
     "output_type": "stream",
     "text": [
      "1102\n"
     ]
    },
    {
     "ename": "TypeError",
     "evalue": "'int' object is not callable",
     "output_type": "error",
     "traceback": [
      "\u001b[1;31m---------------------------------------------------------------------------\u001b[0m",
      "\u001b[1;31mTypeError\u001b[0m                                 Traceback (most recent call last)",
      "Input \u001b[1;32mIn [22]\u001b[0m, in \u001b[0;36m<cell line: 8>\u001b[1;34m()\u001b[0m\n\u001b[0;32m      5\u001b[0m frame_length\u001b[38;5;241m=\u001b[39m\u001b[38;5;28mround\u001b[39m(frame_length)\n\u001b[0;32m      6\u001b[0m \u001b[38;5;28mprint\u001b[39m(frame_length)\n\u001b[1;32m----> 8\u001b[0m signal_length\u001b[38;5;241m=\u001b[39m\u001b[38;5;28;43mlen\u001b[39;49m\u001b[43m(\u001b[49m\u001b[43mamp\u001b[49m\u001b[43m)\u001b[49m\n\u001b[0;32m      9\u001b[0m num_frames \u001b[38;5;241m=\u001b[39m\u001b[38;5;28mround\u001b[39m(signal_length\u001b[38;5;241m/\u001b[39mframe_length)\n\u001b[0;32m     11\u001b[0m frame_index\u001b[38;5;241m=\u001b[39m[\u001b[38;5;241m0\u001b[39m]\n",
      "\u001b[1;31mTypeError\u001b[0m: 'int' object is not callable"
     ]
    }
   ],
   "source": [
    "frame_size = 0.025\n",
    "frame_stride = 0.01\n",
    "\n",
    "frame_length,frame_step = frame_size * samplerate, frame_stride * samplerate\n",
    "frame_length=round(frame_length)\n",
    "print(frame_length)\n",
    "\n",
    "signal_length=len(amp)\n",
    "num_frames =round(signal_length/frame_length)\n",
    "\n",
    "frame_index=[0]\n",
    "temp=0\n",
    "\n",
    "for i in range(1,num_frames):\n",
    "    temp+=frame_length\n",
    "    frame_index.append(temp)\n",
    "        \n",
    "\n",
    "frame_no=2\n",
    "\n",
    "x=range(frame_index[frame_no],frame_index[frame_no]+frame_length)\n",
    "y=amp[frame_index[frame_no]:frame_index[frame_no]+frame_length]\n",
    "# plt.figure(0)\n",
    "# plt.plot(x,y)"
   ]
  },
  {
   "cell_type": "code",
   "execution_count": null,
   "id": "ed18ca55-4585-4d08-81ba-f73c31346e38",
   "metadata": {},
   "outputs": [],
   "source": []
  },
  {
   "cell_type": "code",
   "execution_count": null,
   "id": "bc419623-f9f3-4e3a-82f6-e260ec72d0cb",
   "metadata": {},
   "outputs": [],
   "source": []
  }
 ],
 "metadata": {
  "kernelspec": {
   "display_name": "Python 3 (ipykernel)",
   "language": "python",
   "name": "python3"
  },
  "language_info": {
   "codemirror_mode": {
    "name": "ipython",
    "version": 3
   },
   "file_extension": ".py",
   "mimetype": "text/x-python",
   "name": "python",
   "nbconvert_exporter": "python",
   "pygments_lexer": "ipython3",
   "version": "3.10.5"
  }
 },
 "nbformat": 4,
 "nbformat_minor": 5
}
