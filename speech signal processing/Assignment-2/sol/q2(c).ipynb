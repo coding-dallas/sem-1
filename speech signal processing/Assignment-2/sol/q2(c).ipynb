{
 "cells": [
  {
   "cell_type": "code",
   "execution_count": 1,
   "id": "c7e88c53-bcbe-4d55-b601-4c169c516919",
   "metadata": {},
   "outputs": [],
   "source": [
    "from scipy.io import wavfile\n",
    "import numpy as np\n",
    "from matplotlib import pyplot as plt\n",
    "from scipy.signal import correlate, find_peaks\n",
    "import statsmodels.api as sm\n",
    "from statsmodels.graphics import tsaplots"
   ]
  },
  {
   "cell_type": "code",
   "execution_count": 12,
   "id": "06e73ec6-5818-4c60-9a94-dc814351e444",
   "metadata": {},
   "outputs": [
    {
     "name": "stdout",
     "output_type": "stream",
     "text": [
      "44100\n"
     ]
    }
   ],
   "source": [
    "fileName='C:/Users/kesav/OneDrive/Desktop/Academics/speech signal processing/Assignment-2/chunk1.wav'\n",
    "samplerate,amp=wavfile.read(fileName)\n",
    "length = amp.shape[0]\n",
    "t = length / samplerate"
   ]
  },
  {
   "cell_type": "code",
   "execution_count": 11,
   "id": "3d11ae8a-ce2e-4164-b7e5-7fa6a20d3b2d",
   "metadata": {},
   "outputs": [
    {
     "name": "stdout",
     "output_type": "stream",
     "text": [
      "315\n"
     ]
    }
   ],
   "source": [
    "zero_cross = np.nonzero(np.diff(amp > 0))[0]\n",
    "print(zero_cross.size)"
   ]
  },
  {
   "cell_type": "code",
   "execution_count": null,
   "id": "16418762-2a29-46a6-8057-9d9134020853",
   "metadata": {},
   "outputs": [],
   "source": []
  }
 ],
 "metadata": {
  "kernelspec": {
   "display_name": "Python 3 (ipykernel)",
   "language": "python",
   "name": "python3"
  },
  "language_info": {
   "codemirror_mode": {
    "name": "ipython",
    "version": 3
   },
   "file_extension": ".py",
   "mimetype": "text/x-python",
   "name": "python",
   "nbconvert_exporter": "python",
   "pygments_lexer": "ipython3",
   "version": "3.10.5"
  }
 },
 "nbformat": 4,
 "nbformat_minor": 5
}
